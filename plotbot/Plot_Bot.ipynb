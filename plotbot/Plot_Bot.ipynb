{
 "cells": [
  {
   "cell_type": "code",
   "execution_count": null,
   "metadata": {},
   "outputs": [],
   "source": [
    "#!pip install tweetpy"
   ]
  },
  {
   "cell_type": "code",
   "execution_count": null,
   "metadata": {},
   "outputs": [],
   "source": [
    "import tweepy\n",
    "import spacy\n",
    "import pandas as pd\n",
    "import json\n",
    "import sys\n",
    "import matplotlib.pyplot as plt\n",
    "import time\n",
    "from vaderSentiment.vaderSentiment import SentimentIntensityAnalyzer\n",
    "analyzer = SentimentIntensityAnalyzer()\n",
    "\n",
    "#sys.path.append(\"..\\..\\..\")"
   ]
  },
  {
   "cell_type": "code",
   "execution_count": null,
   "metadata": {},
   "outputs": [],
   "source": [
    "from config import api_key, secret_key, access_token, access_secret"
   ]
  },
  {
   "cell_type": "code",
   "execution_count": null,
   "metadata": {},
   "outputs": [],
   "source": [
    "# Setup Tweepy API Authentication\n",
    "auth = tweepy.OAuthHandler(api_key, secret_key)\n",
    "auth.set_access_token(access_token, access_secret)\n",
    "api = tweepy.API(auth, parser=tweepy.parsers.JSONParser())"
   ]
  },
  {
   "cell_type": "code",
   "execution_count": null,
   "metadata": {},
   "outputs": [],
   "source": [
    "# Load model\n",
    "nlp = spacy.load('en_core_web_md')\n",
    "#accts = (\"@BBC\", \"@CNN\", \"@nytimes\", \"@chrissyteigen\", \"@Minne_miraaa\")"
   ]
  },
  {
   "cell_type": "code",
   "execution_count": null,
   "metadata": {},
   "outputs": [],
   "source": [
    "def find(latest_tweet):\n",
    "    myacct = \"@butha1221\"\n",
    "    search_term = f\"{myacct} analyze:\"\n",
    "    \n",
    "    public_tweets = api.search(search_term, count=10, result_type=\"recent\", since_id=latest_tweet)\n",
    "    \n",
    "    if len(public_tweets[\"statuses\"]) > 0:\n",
    "        tweet = public_tweets[\"statuses\"]\n",
    "        text = tweet[\"text\"]\n",
    "        tweeter = tweet[\"user\"][\"screen_name\"]\n",
    "        tweeter_at = f\"@{tweeter}\"\n",
    "        tweet_id = tweet[\"id\"]\n",
    "        request = {\"text\": text,\n",
    "                   \"creator\": tweeter_at,\n",
    "                   \"tweet ID\": tweet_id}\n",
    "        \n",
    "        #split strings when accounts are found\n",
    "        account_seperators = ':,;.!?'\n",
    "        target_account = text.replace(search_term, \"\").strip(':,;.!?').strip()\n",
    "\n",
    "        for seperator in account_seperators:\n",
    "            if seperator in target_account:\n",
    "                target_account = target_account.split(seperator)[0].strip()\n",
    "    else:\n",
    "        target_account = ''\n",
    "        request = {}\n",
    "        \n",
    "    return target_account, request"
   ]
  },
  {
   "cell_type": "code",
   "execution_count": null,
   "metadata": {},
   "outputs": [],
   "source": [
    "def most_recent(acct):\n",
    "    tweets_data = []\n",
    "    oldest_tweet = None\n",
    "    \n",
    "    for name in range(5):\n",
    "        public_tweets = api.user_timeline(acct, count=100, result_type=\"recent\", max_id=oldest_tweet)\n",
    "        tweets_data.append(public_tweets)\n",
    "        \n",
    "        for tweet in public_tweets:\n",
    "            tweet_id = tweet[\"id\"]\n",
    "            oldest_tweet = tweet_id - 1\n",
    "            \n",
    "    return tweets_data       "
   ]
  },
  {
   "cell_type": "code",
   "execution_count": null,
   "metadata": {},
   "outputs": [],
   "source": [
    "def sentiment(sent):\n",
    "    texts = []\n",
    "    sentiments = []\n",
    "    #former_tweets = []\n",
    "    #compound_list = []\n",
    "    #positive_list = []\n",
    "    #negative_list = []\n",
    "    #neutral_list = []\n",
    "    \n",
    "    counter = 0 \n",
    "    \n",
    "    for tweets in tweets_data:\n",
    "        words = tweets[\"text\"]\n",
    "        results = analyzer.polarity_scores(words)\n",
    "        compound = results[\"compound\"]\n",
    "        pos = results[\"pos\"]\n",
    "        neu = results[\"neu\"]\n",
    "        neg = results[\"neg\"]\n",
    "        \n",
    "        former_tweets = counter\n",
    "        texts.append(words)\n",
    "        sentiments.append({\"Compound\": compound,\n",
    "                           \"Neutral\": neu,\n",
    "                           \"Negative\": neg,\n",
    "                           \"Positive\": pos,\n",
    "                           \"Date\": tweet[\"created_at\"],\n",
    "                           \"Tweets Ago\": former_tweets})\n",
    "        counter = counter + 1\n",
    "        \n",
    "    sentiments_pd = pd.DataFrame.from_dict(sentiments)\n",
    "    return sentiments_pd"
   ]
  },
  {
   "cell_type": "code",
   "execution_count": null,
   "metadata": {},
   "outputs": [],
   "source": [
    "def plotit(sentiments_pd, target_account):\n",
    "    plt.plot(sentiments_pd[\"Tweets Ago\"], sentiments_pd[\"Compound\"], label=target_account, marker=x)\n",
    "    plot_name = f\"polarity_{target_account}.png\"\n",
    "    plt.title(\"Sentiment Analysis of \")\n",
    "    plt.xlabel(\"Tweets Ago\")\n",
    "    plt.ylabel(\"Polarity\")\n",
    "    plt.savefig(plot_name, bbox_inches=\"tight\")\n",
    "    plt.close()\n",
    "    None\n",
    "    \n",
    "    return plot_name"
   ]
  },
  {
   "cell_type": "code",
   "execution_count": null,
   "metadata": {},
   "outputs": [],
   "source": [
    "def send_tweet(plot_name, target_account, request):\n",
    "    update = f\"Tweet Sentiment Analysis: {target_account}\"\n",
    "    update_acct = api.update_status_with_media(filename=plot_name, status=update)\n",
    "    \n",
    "    return update_acct"
   ]
  },
  {
   "cell_type": "code",
   "execution_count": null,
   "metadata": {},
   "outputs": [],
   "source": [
    "prevent_abuse = []\n",
    "count = 0\n",
    "newest_tweet = None\n",
    "\n",
    "while count < 10:\n",
    "    target_account, request = find(newest_tweet)\n",
    "    if(target_account not in prevent_abuse):\n",
    "        #newest_tweet = request[2] + 1\n",
    "        prevent_abuse.append(target_account)\n",
    "        \n",
    "        try:\n",
    "            tweets_data = most_recent(target_account)\n",
    "            sentiments_pd = sentiments(tweets_data)\n",
    "            plot_name = plotit(sentiments_pd, target_account)\n",
    "            update_acct = send_tweet(plot_name, target_account, request)\n",
    "            count = count + 1\n",
    "            print(f\"Success: {target_account} sentiment analysis complete!\")\n",
    "        except:\n",
    "            print(f\"{target_account} not found.\")\n",
    "    else:\n",
    "        print(\"\\nNo requests found.\")\n",
    "        \n",
    "    time.sleep(60*5)"
   ]
  },
  {
   "cell_type": "code",
   "execution_count": null,
   "metadata": {},
   "outputs": [],
   "source": []
  }
 ],
 "metadata": {
  "kernelspec": {
   "display_name": "Python 3",
   "language": "python",
   "name": "python3"
  },
  "language_info": {
   "codemirror_mode": {
    "name": "ipython",
    "version": 3
   },
   "file_extension": ".py",
   "mimetype": "text/x-python",
   "name": "python",
   "nbconvert_exporter": "python",
   "pygments_lexer": "ipython3",
   "version": "3.7.3"
  }
 },
 "nbformat": 4,
 "nbformat_minor": 2
}
